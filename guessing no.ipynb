{
 "cells": [
  {
   "cell_type": "code",
   "execution_count": null,
   "id": "19406d7c-4d65-446f-9ea8-2c81399e55e8",
   "metadata": {},
   "outputs": [],
   "source": [
    "i=1\n",
    "img=6\n",
    "while i<=3:\n",
    "    user=int(input(\"Guess the no:\"))\n",
    "    if user==img:\n",
    "        print(\"congratulations you have win\")\n",
    "        break\n",
    "    elif user<img:\n",
    "        print(\"you have selecting min no\")\n",
    "    elif user>img:\n",
    "        print(\"you have selecting max no\")\n",
    "    else:\n",
    "        print(\"wrong input ,choose right no\")\n",
    "    print(\"you have\",3-i,\"no of guesses left\")\n",
    "    i+=1\n",
    "if i>3:\n",
    "    print(\"game over,sorry\")"
   ]
  }
 ],
 "metadata": {
  "kernelspec": {
   "display_name": "Python 3 (ipykernel)",
   "language": "python",
   "name": "python3"
  },
  "language_info": {
   "codemirror_mode": {
    "name": "ipython",
    "version": 3
   },
   "file_extension": ".py",
   "mimetype": "text/x-python",
   "name": "python",
   "nbconvert_exporter": "python",
   "pygments_lexer": "ipython3",
   "version": "3.12.4"
  }
 },
 "nbformat": 4,
 "nbformat_minor": 5
}
